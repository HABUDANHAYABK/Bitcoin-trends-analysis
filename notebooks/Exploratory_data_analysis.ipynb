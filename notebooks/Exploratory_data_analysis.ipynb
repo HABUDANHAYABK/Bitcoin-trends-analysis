{
 "cells": [
  {
   "cell_type": "markdown",
   "id": "2105309e",
   "metadata": {},
   "source": [
    "# EXPLORATORY DATA ANALYSIS"
   ]
  },
  {
   "cell_type": "code",
   "execution_count": 18,
   "id": "94116526",
   "metadata": {},
   "outputs": [
    {
     "name": "stdout",
     "output_type": "stream",
     "text": [
      "           bitcoin_price  bitcoin_vol.\n",
      "date                                  \n",
      "02-02-2024     43,194.70       42650.0\n",
      "01-02-2024     43,081.40       47690.0\n",
      "31-01-2024     42,580.50       56480.0\n",
      "30-01-2024     42,946.20       55130.0\n",
      "29-01-2024     43,299.80       45230.0\n"
     ]
    }
   ],
   "source": [
    "import pandas as pd\n",
    "import numpy as np\n",
    "\n",
    "bitcoin = pd.read_csv(\"../data/cleaned_bitcoin.csv\", index_col=0)\n",
    "print(bitcoin.head())"
   ]
  },
  {
   "cell_type": "code",
   "execution_count": 6,
   "id": "0392e033",
   "metadata": {},
   "outputs": [
    {
     "name": "stdout",
     "output_type": "stream",
     "text": [
      "       bitcoin_vol.\n",
      "count  1.243000e+03\n",
      "mean   4.033918e+07\n",
      "std    2.940889e+08\n",
      "min    2.600000e+02\n",
      "25%    7.907500e+04\n",
      "50%    2.153100e+05\n",
      "75%    6.151050e+05\n",
      "max    4.470000e+09\n"
     ]
    }
   ],
   "source": [
    "# Explore summary statistics of the data\n",
    "print(bitcoin.describe())"
   ]
  },
  {
   "cell_type": "code",
   "execution_count": 7,
   "id": "a0882dd2",
   "metadata": {},
   "outputs": [
    {
     "name": "stdout",
     "output_type": "stream",
     "text": [
      "<class 'pandas.core.frame.DataFrame'>\n",
      "Index: 1243 entries, 02-02-2024 to 04-02-2019\n",
      "Data columns (total 2 columns):\n",
      " #   Column         Non-Null Count  Dtype  \n",
      "---  ------         --------------  -----  \n",
      " 0   bitcoin_price  1243 non-null   object \n",
      " 1   bitcoin_vol.   1243 non-null   float64\n",
      "dtypes: float64(1), object(1)\n",
      "memory usage: 29.1+ KB\n"
     ]
    }
   ],
   "source": [
    "# basic information about the data\n",
    "bitcoin.info()"
   ]
  },
  {
   "cell_type": "code",
   "execution_count": 21,
   "id": "ba23860e",
   "metadata": {},
   "outputs": [],
   "source": [
    "# remove commas and convert the column to numeric\n",
    "\n",
    "bitcoin['bitcoin_price'] = bitcoin['bitcoin_price'].str.replace(',', '').astype(float)"
   ]
  },
  {
   "cell_type": "code",
   "execution_count": 23,
   "id": "85fc4636",
   "metadata": {},
   "outputs": [
    {
     "name": "stdout",
     "output_type": "stream",
     "text": [
      "The average price of bitcoin from jan 2020 to end of 2023 is 28894.10$\n"
     ]
    }
   ],
   "source": [
    "#Calculation of summary statistics\n",
    "\n",
    "#Average price of bitcoin between 2020 to 2023\n",
    "\n",
    "twenty3_4= bitcoin['29-12-2023' : '02-01-2020']\n",
    "aveg_price =np.mean(twenty3_4['bitcoin_price'])\n",
    "print(f\"The average price of bitcoin from jan 2020 to end of 2023 is {aveg_price:.2f}$\")"
   ]
  },
  {
   "cell_type": "code",
   "execution_count": 24,
   "id": "976aef12",
   "metadata": {},
   "outputs": [
    {
     "name": "stdout",
     "output_type": "stream",
     "text": [
      "The average volume of BTC between 2020 to end of 2023 is 50383539.95\n"
     ]
    }
   ],
   "source": [
    "#average vol between 2020 to end of 2023\n",
    "\n",
    "print(f\"The average volume of BTC between 2020 to end of 2023 is {twenty3_4['bitcoin_vol.'].mean():.2f}\")"
   ]
  },
  {
   "cell_type": "code",
   "execution_count": 26,
   "id": "8f71b7b4",
   "metadata": {},
   "outputs": [
    {
     "name": "stdout",
     "output_type": "stream",
     "text": [
      "The maximum price of BTC between Jan 2020 to end of Dec 2023 is 67527.9$\n"
     ]
    }
   ],
   "source": [
    "# max price of btc between 2020 to end of 23\n",
    "\n",
    "print(f\"The maximum price of BTC between Jan 2020 to end of Dec 2023 is {twenty3_4['bitcoin_price'].max()}$\")"
   ]
  },
  {
   "cell_type": "code",
   "execution_count": null,
   "id": "95035a10",
   "metadata": {},
   "outputs": [
    {
     "name": "stdout",
     "output_type": "stream",
     "text": [
      "Index(['02-02-2024', '01-02-2024', '31-01-2024', '30-01-2024', '29-01-2024',\n",
      "       '26-01-2024', '25-01-2024', '24-01-2024', '23-01-2024', '22-01-2024',\n",
      "       ...\n",
      "       '15-02-2019', '14-02-2019', '13-02-2019', '12-02-2019', '11-02-2019',\n",
      "       '08-02-2019', '07-02-2019', '06-02-2019', '05-02-2019', '04-02-2019'],\n",
      "      dtype='object', name='date', length=1243)\n"
     ]
    }
   ],
   "source": [
    "'bitcoin.index)"
   ]
  },
  {
   "cell_type": "code",
   "execution_count": 27,
   "id": "5c828a00",
   "metadata": {},
   "outputs": [
    {
     "name": "stderr",
     "output_type": "stream",
     "text": [
      "C:\\Users\\Danhaya\\AppData\\Local\\Temp\\ipykernel_5736\\324380349.py:2: FutureWarning: The provided callable <function median at 0x000001ACC20BCF40> is currently using Series.median. In a future version of pandas, the provided callable will be used directly. To keep current behavior pass the string \"median\" instead.\n",
      "  twenty3_4['bitcoin_price'].agg([np.median, np.std])\n",
      "C:\\Users\\Danhaya\\AppData\\Local\\Temp\\ipykernel_5736\\324380349.py:2: FutureWarning: The provided callable <function std at 0x000001ACBFF73E20> is currently using Series.std. In a future version of pandas, the provided callable will be used directly. To keep current behavior pass the string \"std\" instead.\n",
      "  twenty3_4['bitcoin_price'].agg([np.median, np.std])\n"
     ]
    },
    {
     "data": {
      "text/plain": [
       "median    27337.400000\n",
       "std       15137.227032\n",
       "Name: bitcoin_price, dtype: float64"
      ]
     },
     "execution_count": 27,
     "metadata": {},
     "output_type": "execute_result"
    }
   ],
   "source": [
    "#other statistical tools like median and std of price \n",
    "twenty3_4['bitcoin_price'].agg([np.median, np.std]) "
   ]
  },
  {
   "cell_type": "code",
   "execution_count": 29,
   "id": "a8293070",
   "metadata": {},
   "outputs": [
    {
     "name": "stdout",
     "output_type": "stream",
     "text": [
      "The correlation between volume and BTC price is 0.12\n"
     ]
    }
   ],
   "source": [
    "# Correlation between volume and price\n",
    "\n",
    "print(f\"The correlation between volume and BTC price is {twenty3_4['bitcoin_vol.'].corr(twenty3_4['bitcoin_price']):.2f}\")"
   ]
  },
  {
   "cell_type": "code",
   "execution_count": 31,
   "id": "d81efbd3",
   "metadata": {},
   "outputs": [
    {
     "data": {
      "image/png": "[encoded data removed]",
      "text/plain": [
       "<Figure size 640x480 with 1 Axes>"
      ]
     },
     "metadata": {},
     "output_type": "display_data"
    }
   ],
   "source": [
    "import matplotlib.pyplot as plt\n",
    "import seaborn as sns\n",
    "\n",
    "fig, ax = plt.subplots()\n",
    "ax.plot(bitcoin.index, bitcoin['bitcoin_price'], label = 'bitcoin price')\n",
    "ax.set_xlabel('Time')\n",
    "ax.set_ylabel('Bitcoin Price')\n",
    "ax.set_title('Bitcoin Price Over Time')\n",
    "\n",
    "plt.legend()\n",
    "plt.show()\n"
   ]
  },
  {
   "cell_type": "code",
   "execution_count": null,
   "id": "8ae5b112",
   "metadata": {},
   "outputs": [],
   "source": []
  }
 ],
 "metadata": {
  "kernelspec": {
   "display_name": "base",
   "language": "python",
   "name": "python3"
  },
  "language_info": {
   "codemirror_mode": {
    "name": "ipython",
    "version": 3
   },
   "file_extension": ".py",
   "mimetype": "text/x-python",
   "name": "python",
   "nbconvert_exporter": "python",
   "pygments_lexer": "ipython3",
   "version": "3.12.3"
  }
 },
 "nbformat": 4,
 "nbformat_minor": 5
}
