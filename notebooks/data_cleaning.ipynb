{
 "cells": [
  {
   "cell_type": "markdown",
   "id": "3b6f3211",
   "metadata": {},
   "source": [
    "# Data Cleaning "
   ]
  },
  {
   "cell_type": "code",
   "execution_count": 2,
   "id": "eeec4210",
   "metadata": {},
   "outputs": [
    {
     "name": "stdout",
     "output_type": "stream",
     "text": [
      "   Unnamed: 0        Date  Natural_Gas_Price  Natural_Gas_Vol.  \\\n",
      "0           0  02-02-2024              2.079               NaN   \n",
      "1           1  01-02-2024              2.050          161340.0   \n",
      "2           2  31-01-2024              2.100          142860.0   \n",
      "3           3  30-01-2024              2.077          139750.0   \n",
      "4           4  29-01-2024              2.490            3590.0   \n",
      "\n",
      "   Crude_oil_Price  Crude_oil_Vol.  Copper_Price  Copper_Vol. Bitcoin_Price  \\\n",
      "0            72.28             NaN        3.8215          NaN     43,194.70   \n",
      "1            73.82        577940.0        3.8535          NaN     43,081.40   \n",
      "2            75.85        344490.0        3.9060          NaN     42,580.50   \n",
      "3            77.82        347240.0        3.9110          NaN     42,946.20   \n",
      "4            76.78        331930.0        3.8790          NaN     43,299.80   \n",
      "\n",
      "   Bitcoin_Vol.  ... Berkshire_Price  Berkshire_Vol. Netflix_Price  \\\n",
      "0       42650.0  ...        5,89,498         10580.0        564.64   \n",
      "1       47690.0  ...        5,81,600          9780.0        567.51   \n",
      "2       56480.0  ...        5,78,020          9720.0        564.11   \n",
      "3       55130.0  ...        5,84,680          9750.0        562.85   \n",
      "4       45230.0  ...        5,78,800         13850.0        575.79   \n",
      "\n",
      "   Netflix_Vol. Amazon_Price  Amazon_Vol.  Meta_Price   Meta_Vol.  Gold_Price  \\\n",
      "0     4030000.0       171.81  117220000.0      474.99  84710000.0    2,053.70   \n",
      "1     3150000.0       159.28   66360000.0      394.78  25140000.0    2,071.10   \n",
      "2     4830000.0       155.20   49690000.0      390.14  20010000.0    2,067.40   \n",
      "3     6120000.0       159.00   42290000.0      400.06  18610000.0    2,050.90   \n",
      "4     6880000.0       161.26   42840000.0      401.02  17790000.0    2,034.90   \n",
      "\n",
      "   Gold_Vol.  \n",
      "0        NaN  \n",
      "1   260920.0  \n",
      "2   238370.0  \n",
      "3   214590.0  \n",
      "4     1780.0  \n",
      "\n",
      "[5 rows x 39 columns]\n"
     ]
    }
   ],
   "source": [
    "import pandas as pd\n",
    "\n",
    "stock = pd.read_csv('../data/Stock_market.csv')\n",
    "print(stock.head())"
   ]
  },
  {
   "cell_type": "code",
   "execution_count": 3,
   "id": "dcf1b68f",
   "metadata": {},
   "outputs": [
    {
     "name": "stdout",
     "output_type": "stream",
     "text": [
      "         Date Bitcoin_Price  Bitcoin_Vol.\n",
      "0  02-02-2024     43,194.70       42650.0\n",
      "1  01-02-2024     43,081.40       47690.0\n",
      "2  31-01-2024     42,580.50       56480.0\n",
      "3  30-01-2024     42,946.20       55130.0\n",
      "4  29-01-2024     43,299.80       45230.0\n"
     ]
    }
   ],
   "source": [
    "bitcoin = stock.loc[:, ['Date', 'Bitcoin_Price', 'Bitcoin_Vol.']]\n",
    "print(bitcoin.head())"
   ]
  },
  {
   "cell_type": "code",
   "execution_count": 5,
   "id": "78d34c22",
   "metadata": {},
   "outputs": [
    {
     "name": "stdout",
     "output_type": "stream",
     "text": [
      "['date', 'bitcoin_price', 'bitcoin_vol.']\n"
     ]
    }
   ],
   "source": [
    "#renaming the confusing columns to lower case\n",
    "\n",
    "bitcoin.columns = bitcoin.columns.map(lambda x: x.lower())\n",
    "print(bitcoin.columns.tolist())"
   ]
  },
  {
   "cell_type": "code",
   "execution_count": 7,
   "id": "028387a0",
   "metadata": {},
   "outputs": [
    {
     "data": {
      "text/plain": [
       "date             False\n",
       "bitcoin_price    False\n",
       "bitcoin_vol.     False\n",
       "dtype: bool"
      ]
     },
     "execution_count": 7,
     "metadata": {},
     "output_type": "execute_result"
    }
   ],
   "source": [
    "#checking for missing data\n",
    "\n",
    "bitcoin.isna().any()"
   ]
  },
  {
   "cell_type": "code",
   "execution_count": 8,
   "id": "a55c44d3",
   "metadata": {},
   "outputs": [],
   "source": [
    "#setting date column as an index\n",
    "\n",
    "bitcoin = bitcoin.set_index('date')"
   ]
  },
  {
   "cell_type": "code",
   "execution_count": 10,
   "id": "a23670ef",
   "metadata": {},
   "outputs": [
    {
     "name": "stdout",
     "output_type": "stream",
     "text": [
      "           bitcoin_price  bitcoin_vol.\n",
      "date                                  \n",
      "02-02-2024     43,194.70       42650.0\n",
      "01-02-2024     43,081.40       47690.0\n",
      "31-01-2024     42,580.50       56480.0\n",
      "30-01-2024     42,946.20       55130.0\n",
      "29-01-2024     43,299.80       45230.0\n"
     ]
    }
   ],
   "source": [
    "print(bitcoin.head())"
   ]
  },
  {
   "cell_type": "code",
   "execution_count": 11,
   "id": "a6ae41d3",
   "metadata": {},
   "outputs": [],
   "source": [
    "bitcoin.to_csv('../data/cleaned_bitcoin.csv')"
   ]
  },
  {
   "cell_type": "code",
   "execution_count": null,
   "id": "1b1dcf4d",
   "metadata": {},
   "outputs": [],
   "source": []
  }
 ],
 "metadata": {
  "kernelspec": {
   "display_name": "base",
   "language": "python",
   "name": "python3"
  },
  "language_info": {
   "codemirror_mode": {
    "name": "ipython",
    "version": 3
   },
   "file_extension": ".py",
   "mimetype": "text/x-python",
   "name": "python",
   "nbconvert_exporter": "python",
   "pygments_lexer": "ipython3",
   "version": "3.12.3"
  }
 },
 "nbformat": 4,
 "nbformat_minor": 5
}
